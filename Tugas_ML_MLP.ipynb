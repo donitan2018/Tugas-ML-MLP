{
  "nbformat": 4,
  "nbformat_minor": 0,
  "metadata": {
    "accelerator": "TPU",
    "colab": {
      "name": "Tugas ML MLP.ipynb",
      "provenance": [],
      "collapsed_sections": [],
      "toc_visible": true,
      "include_colab_link": true
    },
    "kernelspec": {
      "display_name": "Python 3",
      "name": "python3"
    },
    "language_info": {
      "name": "python"
    }
  },
  "cells": [
    {
      "cell_type": "markdown",
      "metadata": {
        "id": "view-in-github",
        "colab_type": "text"
      },
      "source": [
        "<a href=\"https://colab.research.google.com/github/donitan2018/Tugas-ML-MLP/blob/main/Tugas_ML_MLP.ipynb\" target=\"_parent\"><img src=\"https://colab.research.google.com/assets/colab-badge.svg\" alt=\"Open In Colab\"/></a>"
      ]
    },
    {
      "cell_type": "markdown",
      "metadata": {
        "id": "UvKYfSCm9Vxe"
      },
      "source": [
        "# Section 1. Initialization Programs\n"
      ]
    },
    {
      "cell_type": "code",
      "metadata": {
        "colab": {
          "base_uri": "https://localhost:8080/"
        },
        "id": "4H40VHHC9IAh",
        "outputId": "b7d242e8-ee04-4a42-eb5e-e2248a40136c"
      },
      "source": [
        "# Installation\n",
        "!pip install prettytable\n",
        "!pip install split-folders\n",
        "\n",
        "# Started with import\n",
        "import re\n",
        "import os\n",
        "import cv2\n",
        "import sys\n",
        "import math\n",
        "import time\n",
        "import warnings\n",
        "import itertools\n",
        "import splitfolders\n",
        "\n",
        "# Started with import with alias\n",
        "import json as js\n",
        "import numpy as np\n",
        "import pandas as pd\n",
        "import tensorflow as tf\n",
        "import matplotlib.pyplot as plt\n",
        "import matplotlib.image as mpimg\n",
        "\n",
        "# Started with from\n",
        "from PIL import Image\n",
        "from google.colab import drive\n",
        "from prettytable import PrettyTable\n",
        "from matplotlib._png import read_png\n",
        "from google.colab.patches import cv2_imshow\n",
        "from matplotlib.cbook import get_sample_data\n",
        "from sklearn.model_selection import train_test_split\n",
        "from tensorflow.keras.preprocessing.image import ImageDataGenerator\n",
        "mn=PrettyTable() #This is our table that carries our data till the end"
      ],
      "execution_count": null,
      "outputs": [
        {
          "output_type": "stream",
          "text": [
            "Requirement already satisfied: prettytable in /usr/local/lib/python3.7/dist-packages (2.1.0)\n",
            "Requirement already satisfied: importlib-metadata; python_version < \"3.8\" in /usr/local/lib/python3.7/dist-packages (from prettytable) (4.0.1)\n",
            "Requirement already satisfied: wcwidth in /usr/local/lib/python3.7/dist-packages (from prettytable) (0.2.5)\n",
            "Requirement already satisfied: zipp>=0.5 in /usr/local/lib/python3.7/dist-packages (from importlib-metadata; python_version < \"3.8\"->prettytable) (3.4.1)\n",
            "Requirement already satisfied: typing-extensions>=3.6.4; python_version < \"3.8\" in /usr/local/lib/python3.7/dist-packages (from importlib-metadata; python_version < \"3.8\"->prettytable) (3.7.4.3)\n",
            "Requirement already satisfied: split-folders in /usr/local/lib/python3.7/dist-packages (0.4.3)\n"
          ],
          "name": "stdout"
        }
      ]
    },
    {
      "cell_type": "markdown",
      "metadata": {
        "id": "_wwKwiaH9OSQ"
      },
      "source": [
        "# Section 2. Initialization Data"
      ]
    },
    {
      "cell_type": "code",
      "metadata": {
        "colab": {
          "base_uri": "https://localhost:8080/"
        },
        "id": "ZWh7wOET9_Lm",
        "outputId": "44bd9d8f-d447-4eb2-a42e-8441ba235c3c"
      },
      "source": [
        "drive.mount('/content/drive')\n",
        "%cd /content/drive/Shareddrives/bunga\n",
        "base_dir = 'bunga/'\n",
        "dandelion_dir = os.path.join(base_dir, 'dandelion')\n",
        "sunflower_dir = os.path.join(base_dir, 'sunflower')\n",
        "daisy_dir = os.path.join(base_dir, 'daisy')"
      ],
      "execution_count": null,
      "outputs": [
        {
          "output_type": "stream",
          "text": [
            "Drive already mounted at /content/drive; to attempt to forcibly remount, call drive.mount(\"/content/drive\", force_remount=True).\n",
            "/content/drive/Shareddrives/bunga\n"
          ],
          "name": "stdout"
        }
      ]
    },
    {
      "cell_type": "code",
      "metadata": {
        "id": "LBQLkHizmLJ8"
      },
      "source": [
        "def resize(path):\n",
        "  dirs = os.listdir( path )\n",
        "  for item in dirs:\n",
        "    if os.path.isfile(path+'/'+item):\n",
        "      im = Image.open(path+'/'+item)\n",
        "      f, e = os.path.splitext(path+'/'+item)\n",
        "      imResize = im.resize((320,240), Image.ANTIALIAS)\n",
        "      imResize.save(f + ' resized.jpg', 'JPEG', quality=90)\n",
        "      os.remove(path+'/'+item)\n",
        "resize(dandelion_dir)\n",
        "resize(sunflower_dir)\n",
        "resize(daisy_dir)"
      ],
      "execution_count": null,
      "outputs": []
    },
    {
      "cell_type": "code",
      "metadata": {
        "id": "EBAsnu0qmMIX"
      },
      "source": [
        "def rgb2gray(rgb):\n",
        "  return np.dot(rgb[...,:3], [0.2989, 0.5870, 0.1140])\n",
        " \n",
        "def gray(path):\n",
        "  dirs = os.listdir( path )\n",
        "  for item in dirs:\n",
        "    if os.path.isfile(path+'/'+item):\n",
        "      im = Image.open(path+'/'+item)\n",
        "      f, e = os.path.splitext(path+'/'+item)\n",
        "      imgGray = im.convert('L')\n",
        "      imgGray.save(f+'gray.jpg', 'JPEG', quality=90)\n",
        "      os.remove(path+'/'+item)\n",
        "gray(dandelion_dir)\n",
        "gray(sunflower_dir)\n",
        "gray(daisy_dir)"
      ],
      "execution_count": null,
      "outputs": []
    },
    {
      "cell_type": "code",
      "metadata": {
        "colab": {
          "base_uri": "https://localhost:8080/"
        },
        "id": "Q2bOzPZXmNIm",
        "outputId": "91fa1d2b-ce10-474b-f694-9e20fb2bcee9"
      },
      "source": [
        "splitfolders.ratio(base_dir, output=base_dir, seed=42, ratio=(.8, .2))"
      ],
      "execution_count": null,
      "outputs": [
        {
          "output_type": "stream",
          "text": [
            "Copying files: 300 files [00:03, 98.36 files/s] \n"
          ],
          "name": "stderr"
        }
      ]
    },
    {
      "cell_type": "code",
      "metadata": {
        "id": "Yy9pvS0AmOfc"
      },
      "source": [
        "train_dir = os.path.join(base_dir, 'train')\n",
        "validation_dir = os.path.join(base_dir, 'val')\n",
        "\n",
        "train_daisy_dir = os.path.join(train_dir, 'daisy')\n",
        "train_sunflower_dir = os.path.join(train_dir, 'sunflower')\n",
        "train_dandelion_dir = os.path.join(train_dir, 'dandelion')\n",
        " \n",
        "validation_daisy_dir = os.path.join(validation_dir, 'daisy')\n",
        "validation_sunflower_dir = os.path.join(validation_dir, 'sunflower')\n",
        "validation_dandelion_dir = os.path.join(validation_dir, 'dandelion')"
      ],
      "execution_count": null,
      "outputs": []
    },
    {
      "cell_type": "code",
      "metadata": {
        "id": "1qG-hAnMmPp8"
      },
      "source": [
        "def labeling(gambar): \n",
        "  x = []\n",
        "  for i in range (len(gambar)):\n",
        "    for j in range (len(gambar[i])):\n",
        "      y = gambar[i][j][0]\n",
        "      x.append(y)\n",
        "  gambar1d = np.array(x, dtype = np.uint8)\n",
        "  return gambar1d"
      ],
      "execution_count": null,
      "outputs": []
    },
    {
      "cell_type": "code",
      "metadata": {
        "id": "aMCRaqDJmQqT"
      },
      "source": [
        "def dimensi(path,label):\n",
        "    dirs = os.listdir( path )\n",
        "    y = []\n",
        "    x = []\n",
        "    for item in dirs:\n",
        "        if os.path.isfile(path+'/'+item):\n",
        "            im = cv2.imread(path+'/'+item)\n",
        "            a = labeling(im)\n",
        "            x.append(a)\n",
        "            y.append(label)\n",
        "    return x,y\n",
        "xTrain,yTrain,xTest,yTest = [],[],[],[]\n",
        "\n",
        "def appendGroup(init,plus):\n",
        "  for i in range(len(plus)):\n",
        "    init.append(plus[i])\n",
        "  return init\n",
        "\n",
        "x1,y1 = dimensi(train_daisy_dir,[1,1])\n",
        "xTrain = appendGroup(xTrain,x1)\n",
        "yTrain = appendGroup(yTrain,y1)\n",
        "\n",
        "x1,y1 = dimensi(train_sunflower_dir,[0,1])\n",
        "xTrain = appendGroup(xTrain,x1)\n",
        "yTrain = appendGroup(yTrain,y1)\n",
        "\n",
        "x1,y1 = dimensi(train_dandelion_dir,[1,0])\n",
        "xTrain = appendGroup(xTrain,x1)\n",
        "yTrain = appendGroup(yTrain,y1)\n",
        "\n",
        "x1,y1 = dimensi(validation_daisy_dir,[1,1])\n",
        "xTest = appendGroup(xTest,x1)\n",
        "yTest = appendGroup(yTest,y1)\n",
        "\n",
        "x1,y1 = dimensi(validation_sunflower_dir,[0,1])\n",
        "xTest = appendGroup(xTest,x1)\n",
        "yTest = appendGroup(yTest,y1)\n",
        "\n",
        "x1,y1 = dimensi(validation_dandelion_dir,[1,0])\n",
        "xTest = appendGroup(xTest,x1)\n",
        "yTest = appendGroup(yTest,y1)"
      ],
      "execution_count": null,
      "outputs": []
    },
    {
      "cell_type": "markdown",
      "metadata": {
        "id": "4SWylo6v9_jY"
      },
      "source": [
        "# Section 3. Initialization Backpropagation"
      ]
    },
    {
      "cell_type": "code",
      "metadata": {
        "id": "Skj0TeIeFRnv"
      },
      "source": [
        "class hiddenNeuron:\n",
        "\n",
        "  def __init__(self,id,bias):\n",
        "    self.id = id\n",
        "    self.bias = bias\n",
        "    self.hidden_value=0\n",
        "    self.result = 0\n",
        "\n",
        "  def updateBias(self,tetabias):\n",
        "    self.bias = tetabias\n",
        "\n",
        "  def getBias(self):\n",
        "    return self.bias\n",
        "\n",
        "  def update_hidden_value(self, sigmoid_result):\n",
        "    self.hidden_value = sigmoid_result\n",
        "\n",
        "class outputNeuron:\n",
        "\n",
        "  def __init__(self,id,bias):\n",
        "    self.id = id\n",
        "    self.bias = bias\n",
        "    self.output_value=0\n",
        "    self.error = 1000\n",
        "    self.result = 0\n",
        "\n",
        "  def updateBias(self,tetabias):\n",
        "    self.bias = tetabias\n",
        "\n",
        "  def getBias(self):\n",
        "    return self.bias\n",
        "  \n",
        "  def update_error(self,errornya):\n",
        "    self.error = errornya\n",
        "\n",
        "  def update_output_value(self, sigmoid_result):\n",
        "    self.output_value = sigmoid_result"
      ],
      "execution_count": null,
      "outputs": []
    },
    {
      "cell_type": "code",
      "metadata": {
        "id": "7xupI3bkjUzX"
      },
      "source": [
        "def sigmoid(x):\n",
        "  temp = np.exp(-x)\n",
        "  warnings.filterwarnings(\"ignore\")\n",
        "  return float(1.0/(1.0 + temp))\n",
        "\n",
        "def deltaTeta(aktivasi, hidden,fe,s_error):\n",
        "  #Input berupa list 1 dimensi dari value from the image\n",
        "  dteta = []\n",
        "  for i in range (len(hidden)):\n",
        "    gradient_d = s_error * hidden[i].hidden_value\n",
        "\n",
        "    dteta.append (gradient_d)\n",
        "  return dteta\n",
        "\n",
        "def deltaBias(expectedOutput, aktivasi):\n",
        "  return ((expectedOutput - aktivasi) * (1.0 - aktivasi) * aktivasi)\n",
        "\n",
        "def accuracy(true_value, total_data):\n",
        "  #dalam persen\n",
        "  return true_value/total_data *100\n",
        "\n",
        "def deltaTeta2(aktivasi, input, s_error,weight_o): #weight_o = self.OUTPUTtheta[out][hidden.id]\n",
        "  dteta = []\n",
        "  for i in range(len(input)):\n",
        "    gradient_d = s_error * weight_o * aktivasi * (1-aktivasi)*input[i]\n",
        "\n",
        "    dteta.append(gradient_d)\n",
        "  return dteta\n",
        "\n",
        "def deltaTeta2bias(errors,aktivasi):\n",
        "  return errors*(1.0-aktivasi)*aktivasi"
      ],
      "execution_count": null,
      "outputs": []
    },
    {
      "cell_type": "code",
      "metadata": {
        "id": "bAtqi1ha-F2l"
      },
      "source": [
        "\"\"\"\n",
        "This is a specified cell for a spesific class\n",
        "\n",
        "Back Propagation class which can be used with \n",
        "several functions inside of it to be used \n",
        "\n",
        "Parameter : \n",
        "\n",
        "Learning Rate   : Usually 0.1\n",
        "dataframe       : 1 Dimension of value from an image\n",
        "Expected_output : A Lable of the output such as 0 or 1\n",
        "\n",
        "When the initialization begins, it may lags a bit\n",
        "because it's creating the neural network between \n",
        "320x240 input from an image to 5 hidden neuron\n",
        "and 100 hidden neurons to 2 output neurons\n",
        "\n",
        "\"\"\"\n",
        "class backProp:\n",
        "  \n",
        "  def __init__(self,learning_rate):\n",
        "    self.learning_rate = learning_rate\n",
        "\n",
        "    self.hidden_neuron = []\n",
        "    self.INPUTtheta = {}\n",
        "    self.OUTPUTtheta = {}\n",
        "\n",
        "    self.INPUT_Dtheta = {}\n",
        "    self.OUTPUT_Dtheta = {}\n",
        "\n",
        "    self.result = []\n",
        "    self.output_neuron = []\n",
        "\n",
        "    self.list_prediction = []\n",
        "\n",
        "    #membuat arsitektur hidden layer\n",
        "    for i in range (5):\n",
        "      self.hidden_neuron.append(hiddenNeuron(i,0.000005))\n",
        "\n",
        "    for hidden in self.hidden_neuron:\n",
        "      self.INPUTtheta[hidden] = []\n",
        "      self.INPUT_Dtheta[hidden] = []\n",
        "      for i in range(320*240):\n",
        "          self.INPUTtheta[hidden].append(0.000005)\n",
        "          self.INPUT_Dtheta[hidden].append(0)\n",
        "\n",
        "    #membuat arsitektur output_layer\n",
        "    for x in range (2):\n",
        "      self.output_neuron.append(outputNeuron(x,0.000005))\n",
        "    \n",
        "    for out_neuron in self.output_neuron:\n",
        "      self.OUTPUTtheta[out_neuron]=[]\n",
        "      self.OUTPUT_Dtheta[out_neuron] = []\n",
        "      for j in range(len(self.hidden_neuron)):\n",
        "        self.OUTPUTtheta[out_neuron].append(0.000005)\n",
        "        self.OUTPUT_Dtheta[out_neuron].append(0)\n",
        "\n",
        "  def getTotalError(self, expected):\n",
        "    #prediction adalah hasil dari feedforward di mana hasilnya didapat dengan sigmoid dari theta\n",
        "    #yang menghubungkan hidden layer dgn output layer tertentu dan nilai dari hidden layer tsb\n",
        "    #expected adalah output yang diharapkan (dari initial)\n",
        "    error_sum = 0\n",
        "\n",
        "    #menggunakan square error \n",
        "    for i in range(len(expected)):\n",
        "      error_sum += (self.list_prediction[i] - expected[i])**2\n",
        "\n",
        "    return error_sum\n",
        "\n",
        "  def prediction(self,sigmoid_result):\n",
        "    #memprediksikan \n",
        "    prediction_result =( 1 if sigmoid_result >= 0.5 else 0 )\n",
        "    return prediction_result\n",
        "\n",
        "  def counting_dtheta_feedforward(self, y, aktivasi, input):\n",
        "    return -2*(y-aktivasi)*aktivasi*(1-aktivasi)*input\n",
        "\n",
        "  def result1(self,objekhidden,matriximage):\n",
        "    return np.dot(self.INPUTtheta[objekhidden], matriximage)\n",
        "\n",
        "  def result2(self, output_n, hidden_n):\n",
        "    return np.dot(self.OUTPUTtheta[output_n], hidden_n)\n",
        "\n",
        "  def updetTeta(self,dteta):\n",
        "  #dteta should be an 1D of 320x240 value\n",
        "    for hidden in self.hidden_neuron:\n",
        "      for i in range(320*240):\n",
        "        self.INPUTtheta[hidden][i] = self.INPUTtheta[hidden][i] - (self.learning_rate*dteta[i])\n",
        "\n",
        "  def updetBias(self,dbias):\n",
        "    for hidden in hidden_neuron:\n",
        "      value = hidden.getBias() - (self.learning_rate * dbias)\n",
        "      hidden.updateBias(value)\n",
        "\n",
        "  def feedforward(self, dataframe):\n",
        "    self.input_layer = dataframe\n",
        "    self.list_prediction = []\n",
        "    self.all_hidden_value =[]\n",
        "\n",
        "    #mencari nilai sigmoid pada hidden neuron, lalu mengupdate nya pada class hidden neruon\n",
        "    for neuron in self.hidden_neuron: \n",
        "      sigmoid_result = self.result1(neuron, self.input_layer)*(1/100) #mencari hasil theta transpose * input, lalu mencari hasil sigmoidnya\n",
        "      neuron.result = sigmoid_result\n",
        "      sigmoid_result = sigmoid(sigmoid_result)\n",
        "      self.all_hidden_value.append(sigmoid_result) #kumpulkan hasil value nya untuk perhitungan penentuan nilai output\n",
        "      neuron.update_hidden_value(sigmoid_result)\n",
        "    \n",
        "    #mencari nilai sigmoid pada output neuron, lalu mengupdate nilai hypotesisnya yang akan digunakan untuk prediksi\n",
        "    for o_neuron in self.output_neuron:\n",
        "      sigmoid_result = self.result2(o_neuron, self.all_hidden_value)*(1/100)\n",
        "      o_neuron.result = sigmoid_result #menyimpan result untuk digunakan dalam backprop\n",
        "      sigmoid_result = sigmoid(sigmoid_result)\n",
        "      #print(sigmoid_result)\n",
        "      o_neuron.update_output_value(sigmoid_result) \n",
        "\n",
        "      #membuat prediksi\n",
        "      self.list_prediction.append(self.prediction(sigmoid_result)) #nantinya akan menjadi list yang berisi hasil prediction [1,1] atau [0,1] atau [1,0]\n",
        "\n",
        "\n",
        "  def backward(self, dataframe, expectedOutput):\n",
        "    self.input_layer = dataframe\n",
        "    #pada proses ini dilakukan update theta dan bias\n",
        "    #Namun, sebelum di update, kita perlu menemukan dthetanya untuk setiap theta.\n",
        "    #proses pencarian dtheta untuk theta yang menghubungkan hidden layer dan output layer.\n",
        "    for out_neuron in self.output_neuron:\n",
        "      fe = out_neuron.output_value - expectedOutput[out_neuron.id]\n",
        "      s_error = fe * out_neuron.output_value * (1-out_neuron.output_value)\n",
        "      #menampung delta theta terlebih dahulu\n",
        "      \n",
        "      self.OUTPUT_Dtheta [out_neuron] = deltaTeta(out_neuron.output_value, self.hidden_neuron,fe,s_error)\n",
        "      for hidden in self.hidden_neuron:\n",
        "        self.INPUT_Dtheta[hidden] = deltaTeta2(hidden.hidden_value, self.input_layer, s_error,self.OUTPUTtheta[out_neuron][hidden.id])\n",
        "        hidden.updateBias(hidden.bias-self.learning_rate*s_error * self.OUTPUTtheta[out_neuron][hidden.id] * hidden.hidden_value)\n",
        "\n",
        "      out_neuron.updateBias(out_neuron.bias-self.learning_rate*s_error)\n",
        "    \n",
        "    \n",
        "    #sampai di sini kita telah menemukan semua dtheta, sekarang kita lakukan update theta\n",
        "    for update_hidden in self.hidden_neuron:\n",
        "      x=0\n",
        "      for x in range(len(self.input_layer)):\n",
        "        self.INPUTtheta[update_hidden][x] -= self.learning_rate*self.INPUT_Dtheta[update_hidden][x]\n",
        "   \n",
        "    for update_output in self.output_neuron:\n",
        "      \n",
        "      for y in self.hidden_neuron:\n",
        "        self.OUTPUTtheta[update_output][y.id] -= self.learning_rate*self.OUTPUT_Dtheta[update_output][y.id]\n",
        "\n",
        "  def training(self, xtrain, ytrain):\n",
        "    self.feedforward(xtrain)\n",
        "    self.backward(xtrain,ytrain)"
      ],
      "execution_count": null,
      "outputs": []
    },
    {
      "cell_type": "markdown",
      "metadata": {
        "id": "lP3WR5a_vli8"
      },
      "source": [
        "# VARIABLES USED FOR MAIN PROGRAM"
      ]
    },
    {
      "cell_type": "code",
      "metadata": {
        "id": "ZhUtDmfQJ1nQ"
      },
      "source": [
        "\"\"\"\n",
        "MAIN\n",
        "\n",
        "Visualisasikan error dan akurasi setiap epoch untuk 50 epoch, \n",
        "dan coba gunakan learning rate = 0,1 ; learning rate = 0,8\n",
        "\n",
        "\"\"\"\n",
        "epoch = 50\n",
        "steps = 6\n",
        "learning_rate1 = 0.1\n",
        "learning_rate2 = 0.8\n",
        "beta1 = 0.9\n",
        "beta2 = 0.999\n",
        "epsilon = 1e-07\n",
        "batchSize = 32\n",
        "\n",
        "excTIME   = []\n",
        "errorDATA = {'model1': [], 'model2': []}\n",
        "accuracyDATA = {'model1': [], 'model2': []}\n",
        "resultHistory = {}"
      ],
      "execution_count": null,
      "outputs": []
    },
    {
      "cell_type": "markdown",
      "metadata": {
        "id": "3NXbiMufHiJD"
      },
      "source": [
        "# Section 4. Main Program Pt. 1 - Training BackProp\n"
      ]
    },
    {
      "cell_type": "code",
      "metadata": {
        "id": "jFct9qUcKh9p"
      },
      "source": [
        "backProp_Model1 = backProp(learning_rate1)\n",
        "backProp_Model2 = backProp(learning_rate2)"
      ],
      "execution_count": null,
      "outputs": []
    },
    {
      "cell_type": "code",
      "metadata": {
        "colab": {
          "base_uri": "https://localhost:8080/"
        },
        "id": "zXZBcVbGtZku",
        "outputId": "06920d49-bdfe-433d-eadb-6d70f14b9e32"
      },
      "source": [
        "print(len(xTrain))"
      ],
      "execution_count": null,
      "outputs": [
        {
          "output_type": "stream",
          "text": [
            "240\n"
          ],
          "name": "stdout"
        }
      ]
    },
    {
      "cell_type": "code",
      "metadata": {
        "id": "y_g73bFEVOQV"
      },
      "source": [
        "for epoch in range(epoch):\n",
        "  temp1 = 0\n",
        "  temp2 = 0\n",
        "  \n",
        "  # GET TIME\n",
        "  startTIME = time.time()\n",
        "  print(\"\\nEpoch : %d\\n[\" %(epoch+1),end='')\n",
        "  for i in range(len(xTrain)): #training process\n",
        "    \n",
        "    backProp_Model1.training(xTrain[i],yTrain[i])\n",
        "    backProp_Model2.training(xTrain[i],yTrain[i])\n",
        "    \n",
        "    # GET ERROR\n",
        "    temp1 += backProp_Model1.getTotalError(yTrain[i])\n",
        "    # GET ERROR\n",
        "    temp2 += backProp_Model2.getTotalError(yTrain[i])\n",
        "\n",
        "    if (i+1)%steps == 0:\n",
        "      print (\"=\",end='')\n",
        "      \n",
        "  endTIME = time.time()\n",
        "  excTIME.append(endTIME - startTIME)\n",
        "  errorDATA['model1'].append(temp1/240)\n",
        "  errorDATA['model2'].append(temp2/240)\n",
        "\n",
        "  #validation process\n",
        "  true_predict1=0\n",
        "  true_predict2=0\n",
        "  for y in range(len(xTest)):\n",
        "    backProp_Model1.feedforward(xTest[y])\n",
        "    backProp_Model2.feedforward(xTest[y])\n",
        "    if(backProp_Model1.list_prediction == yTest[y]):  \n",
        "      true_predict1+=1\n",
        "    if(backProp_Model2.list_prediction == yTest[y]):\n",
        "      true_predict2+=1\n",
        "  \n",
        "  akurasi1 = accuracy(true_predict1, len(xTest))\n",
        "  accuracyDATA['model1'].append(akurasi1)\n",
        "  akurasi2 = accuracy(true_predict2, len(xTest))\n",
        "  accuracyDATA['model2'].append(akurasi2)\n",
        "  print(\"]\")\n",
        "  print(\"ACCURACY MODEL 1 (LEARNING RATE: 0.1): \", akurasi1)\n",
        "  print(\"ACCURACY MODEL 2 (LEARNING RATE: 0.8): \",akurasi2)\n",
        "\n",
        "  print(\"\"\"\n",
        "  Model 1 with 0.1 learning rate\n",
        "  Error : %s\n",
        "\n",
        "  Model 2 with 0.8 learning rate\n",
        "  Error : %s\n",
        "\n",
        "  Execution Time : %s\n",
        "  \"\"\" % (errorDATA['model1'][epoch],\n",
        "         errorDATA['model2'][epoch],\n",
        "         excTIME[epoch]))"
      ],
      "execution_count": null,
      "outputs": []
    },
    {
      "cell_type": "code",
      "metadata": {
        "id": "EPTO0I7RatTo",
        "colab": {
          "base_uri": "https://localhost:8080/"
        },
        "outputId": "83e8319d-f75f-4744-d7d4-12cfbf6da965"
      },
      "source": [
        "excTIME"
      ],
      "execution_count": null,
      "outputs": [
        {
          "output_type": "execute_result",
          "data": {
            "text/plain": [
              "[4077.1131336688995, 4101.142687320709]"
            ]
          },
          "metadata": {
            "tags": []
          },
          "execution_count": 14
        }
      ]
    },
    {
      "cell_type": "code",
      "metadata": {
        "colab": {
          "base_uri": "https://localhost:8080/"
        },
        "id": "9zd1sBvGFcjZ",
        "outputId": "540529f3-2c81-497c-e0d6-e3945df02f89"
      },
      "source": [
        "epoch"
      ],
      "execution_count": null,
      "outputs": [
        {
          "output_type": "execute_result",
          "data": {
            "text/plain": [
              "2"
            ]
          },
          "metadata": {
            "tags": []
          },
          "execution_count": 20
        }
      ]
    },
    {
      "cell_type": "code",
      "metadata": {
        "id": "TDxGsUvyajgy",
        "colab": {
          "base_uri": "https://localhost:8080/"
        },
        "outputId": "21bf346a-551b-4e5c-eafb-19203e090b63"
      },
      "source": [
        "accuracyDATA"
      ],
      "execution_count": null,
      "outputs": [
        {
          "output_type": "execute_result",
          "data": {
            "text/plain": [
              "{'model1': [33.33333333333333, 33.33333333333333],\n",
              " 'model2': [33.33333333333333, 33.33333333333333]}"
            ]
          },
          "metadata": {
            "tags": []
          },
          "execution_count": 15
        }
      ]
    },
    {
      "cell_type": "code",
      "metadata": {
        "id": "vV3jz5_Malm7",
        "colab": {
          "base_uri": "https://localhost:8080/"
        },
        "outputId": "39d1d015-f9ee-44f9-e68f-78fdf25096f6"
      },
      "source": [
        "errorDATA"
      ],
      "execution_count": null,
      "outputs": [
        {
          "output_type": "execute_result",
          "data": {
            "text/plain": [
              "{'model1': [0.6708333333333333, 0.6666666666666666],\n",
              " 'model2': [0.5833333333333334, 0.65]}"
            ]
          },
          "metadata": {
            "tags": []
          },
          "execution_count": 16
        }
      ]
    },
    {
      "cell_type": "code",
      "metadata": {
        "id": "79yVBJR_a2HF",
        "colab": {
          "base_uri": "https://localhost:8080/",
          "height": 336
        },
        "outputId": "c91f8c19-1afe-406b-b9b4-5982bc0b0c46"
      },
      "source": [
        "import matplotlib.pyplot as plt\n",
        "\n",
        "plt.figure(figsize=(5,5))\n",
        "plt.title('Visualization')\n",
        "plt.plot(errorDATA['model1'],marker= 'o', label='Loss MODEL 1')\n",
        "plt.plot(errorDATA['model2'],marker= 'o', label='Loss MODEL 2')\n",
        "plt.axis([0,epoch,0,1])\n",
        "plt.legend()\n",
        "plt.show();"
      ],
      "execution_count": null,
      "outputs": [
        {
          "output_type": "display_data",
          "data": {
            "image/png": "[encoded data removed]",
            "text/plain": [
              "<Figure size 360x360 with 1 Axes>"
            ]
          },
          "metadata": {
            "tags": [],
            "needs_background": "light"
          }
        }
      ]
    },
    {
      "cell_type": "code",
      "metadata": {
        "id": "9prG5-igb9hv",
        "colab": {
          "base_uri": "https://localhost:8080/",
          "height": 336
        },
        "outputId": "621b8296-bcd7-4a05-cde1-0689c65b9d0b"
      },
      "source": [
        "plt.figure(figsize=(5,5))\n",
        "plt.title('Visualization')\n",
        "plt.plot(accuracyDATA['model1'],marker= 'o', label='Acc MODEL 1')\n",
        "plt.plot(accuracyDATA['model2'],marker= 'o', label='Acc MODEL 2')\n",
        "plt.axis([0,epoch,0,1])\n",
        "plt.legend()\n",
        "plt.show();"
      ],
      "execution_count": null,
      "outputs": [
        {
          "output_type": "display_data",
          "data": {
            "image/png": "[encoded data removed]",
            "text/plain": [
              "<Figure size 360x360 with 1 Axes>"
            ]
          },
          "metadata": {
            "tags": [],
            "needs_background": "light"
          }
        }
      ]
    },
    {
      "cell_type": "markdown",
      "metadata": {
        "id": "oxJGCIBasERo"
      },
      "source": [
        "# Section 5. Convolutional Neural Network "
      ]
    },
    {
      "cell_type": "code",
      "metadata": {
        "id": "en3B9cQmsei0"
      },
      "source": [
        "train_datagen = ImageDataGenerator(\n",
        "                    rescale=1./255,\n",
        "                    rotation_range=20,\n",
        "                    horizontal_flip=True,\n",
        "                    shear_range = 0.2,\n",
        "                    fill_mode = 'nearest')\n",
        " \n",
        "test_datagen = ImageDataGenerator(\n",
        "                    rescale=1./255,\n",
        "                    rotation_range=20,\n",
        "                    horizontal_flip=True,\n",
        "                    shear_range = 0.2,\n",
        "                    fill_mode = 'nearest')"
      ],
      "execution_count": null,
      "outputs": []
    },
    {
      "cell_type": "code",
      "metadata": {
        "id": "DVFvIRNqse8f",
        "colab": {
          "base_uri": "https://localhost:8080/"
        },
        "outputId": "96f7d9f2-3566-4290-dc70-04aeaa971f1b"
      },
      "source": [
        "train_generator = train_datagen.flow_from_directory(\n",
        "        train_dir,  # direktori data latih\n",
        "        target_size=(320, 240),  # mengubah resolusi seluruh gambar menjadi 150x150 piksel\n",
        "        batch_size=4,\n",
        "        # karena kita merupakan masalah klasifikasi 2 kelas maka menggunakan class_mode = 'binary'\n",
        "        class_mode='sparse')\n",
        " \n",
        "validation_generator = test_datagen.flow_from_directory(\n",
        "        validation_dir, # direktori data validasi\n",
        "        target_size=(320, 240), # mengubah resolusi seluruh gambar menjadi 150x150 piksel\n",
        "        batch_size=4, # karena kita merupakan masalah klasifikasi 2 kelas maka menggunakan class_mode = 'binary'\n",
        "        class_mode='sparse')"
      ],
      "execution_count": null,
      "outputs": [
        {
          "output_type": "stream",
          "text": [
            "Found 240 images belonging to 5 classes.\n",
            "Found 60 images belonging to 5 classes.\n"
          ],
          "name": "stdout"
        }
      ]
    },
    {
      "cell_type": "code",
      "metadata": {
        "id": "9rpoV3uosrL3"
      },
      "source": [
        "model1 = tf.keras.models.Sequential([\n",
        "    tf.keras.layers.Conv2D(32, (3,3), activation='relu', input_shape=(320, 240, 3)),\n",
        "    tf.keras.layers.MaxPooling2D(2, 2),\n",
        "    tf.keras.layers.Conv2D(64, (3,3), activation='relu'),\n",
        "    tf.keras.layers.MaxPooling2D(2,2),\n",
        "    tf.keras.layers.Conv2D(128, (3,3), activation='relu'),\n",
        "    tf.keras.layers.MaxPooling2D(2,2),\n",
        "    tf.keras.layers.Conv2D(128, (3,3), activation='relu'),\n",
        "    tf.keras.layers.MaxPooling2D(2,2),\n",
        "    tf.keras.layers.Flatten(),\n",
        "    tf.keras.layers.Dense(512, activation='relu'),\n",
        "    tf.keras.layers.Dense(3, activation='softmax')\n",
        "])\n",
        "\n",
        "model2 = tf.keras.models.Sequential([\n",
        "    tf.keras.layers.Conv2D(32, (3,3), activation='relu', input_shape=(320, 240, 3)),\n",
        "    tf.keras.layers.MaxPooling2D(2, 2),\n",
        "    tf.keras.layers.Conv2D(64, (3,3), activation='relu'),\n",
        "    tf.keras.layers.MaxPooling2D(2,2),\n",
        "    tf.keras.layers.Conv2D(128, (3,3), activation='relu'),\n",
        "    tf.keras.layers.MaxPooling2D(2,2),\n",
        "    tf.keras.layers.Conv2D(128, (3,3), activation='relu'),\n",
        "    tf.keras.layers.MaxPooling2D(2,2),\n",
        "    tf.keras.layers.Flatten(),\n",
        "    tf.keras.layers.Dense(512, activation='relu'),\n",
        "    tf.keras.layers.Dense(3, activation='softmax')\n",
        "])"
      ],
      "execution_count": null,
      "outputs": []
    },
    {
      "cell_type": "code",
      "metadata": {
        "id": "97uyacuosrpu"
      },
      "source": [
        "# For 1st model\n",
        "tf.keras.optimizers.Adam(\n",
        "    learning_rate=learning_rate1, beta_1=beta1, beta_2=beta2, epsilon=epsilon, amsgrad=False,\n",
        "    name='Adam'\n",
        ")\n",
        "model1.compile(loss='sparse_categorical_crossentropy', optimizer=tf.optimizers.Adam(), metrics=['accuracy'])\n",
        "\n",
        "# FOR 2nd model\n",
        "tf.keras.optimizers.Adam(\n",
        "    learning_rate=learning_rate2, beta_1=beta1, beta_2=beta2, epsilon=epsilon, amsgrad=False,\n",
        "    name='Adam'\n",
        ")\n",
        "model2.compile(loss='sparse_categorical_crossentropy', optimizer=tf.optimizers.Adam(), metrics=['accuracy'])"
      ],
      "execution_count": null,
      "outputs": []
    },
    {
      "cell_type": "code",
      "metadata": {
        "id": "hiXSxdm_ssmQ"
      },
      "source": [
        "class myCallback(tf.keras.callbacks.Callback):\n",
        "  def on_epoch_end(self, epoch, logs={}):\n",
        "    if(logs.get('accuracy')>0.9 and logs.get('val_accuracy')>0.9):\n",
        "      print(\"\\nAkurasi telah mencapai >90%!\")\n",
        "      self.model.stop_training = True\n",
        "callbacks = myCallback()"
      ],
      "execution_count": null,
      "outputs": []
    },
    {
      "cell_type": "code",
      "metadata": {
        "id": "stHJDmB2stiA",
        "colab": {
          "base_uri": "https://localhost:8080/"
        },
        "outputId": "b4a2022b-1e60-4f5f-eea2-500232513d09"
      },
      "source": [
        "# latih model dengan model.fit\n",
        "temp = model1.fit(train_generator,  \n",
        "                 epochs=epoch, \n",
        "                 batch_size=batchSize,\n",
        "                 validation_data=validation_generator,\n",
        "                 validation_steps=5,\n",
        "                 callbacks=[callbacks])\n",
        "resultHistory['model1'] = temp\n",
        "temp = model2.fit(train_generator,  \n",
        "                 epochs=epoch,\n",
        "                 batch_size=batchSize,\n",
        "                 validation_data=validation_generator,\n",
        "                 validation_steps=5,\n",
        "                 callbacks=[callbacks])\n",
        "resultHistory['model2'] = temp"
      ],
      "execution_count": null,
      "outputs": [
        {
          "output_type": "stream",
          "text": [
            "Epoch 1/50\n",
            "60/60 [==============================] - 57s 939ms/step - loss: 1.2316 - accuracy: 0.3333 - val_loss: 1.0904 - val_accuracy: 0.4000\n",
            "Epoch 2/50\n",
            "60/60 [==============================] - 56s 937ms/step - loss: 1.0815 - accuracy: 0.3917 - val_loss: 1.0720 - val_accuracy: 0.5500\n",
            "Epoch 3/50\n",
            "60/60 [==============================] - 56s 933ms/step - loss: 1.0461 - accuracy: 0.4375 - val_loss: 1.1260 - val_accuracy: 0.4500\n",
            "Epoch 4/50\n",
            "60/60 [==============================] - 56s 932ms/step - loss: 1.0586 - accuracy: 0.4333 - val_loss: 1.3133 - val_accuracy: 0.3000\n",
            "Epoch 5/50\n",
            "60/60 [==============================] - 56s 938ms/step - loss: 1.0231 - accuracy: 0.4792 - val_loss: 1.1396 - val_accuracy: 0.4500\n",
            "Epoch 6/50\n",
            "60/60 [==============================] - 56s 934ms/step - loss: 0.9863 - accuracy: 0.5125 - val_loss: 0.9830 - val_accuracy: 0.5000\n",
            "Epoch 7/50\n",
            "60/60 [==============================] - 56s 932ms/step - loss: 0.9098 - accuracy: 0.5833 - val_loss: 1.1304 - val_accuracy: 0.3000\n",
            "Epoch 8/50\n",
            "60/60 [==============================] - 56s 930ms/step - loss: 0.8835 - accuracy: 0.6250 - val_loss: 0.9447 - val_accuracy: 0.5500\n",
            "Epoch 9/50\n",
            "60/60 [==============================] - 56s 930ms/step - loss: 0.8701 - accuracy: 0.6083 - val_loss: 1.1847 - val_accuracy: 0.4000\n",
            "Epoch 10/50\n",
            "60/60 [==============================] - 56s 926ms/step - loss: 0.8726 - accuracy: 0.5708 - val_loss: 1.8207 - val_accuracy: 0.2500\n",
            "Epoch 11/50\n",
            "60/60 [==============================] - 55s 921ms/step - loss: 0.8714 - accuracy: 0.6083 - val_loss: 0.9233 - val_accuracy: 0.5000\n",
            "Epoch 12/50\n",
            "60/60 [==============================] - 56s 926ms/step - loss: 0.7906 - accuracy: 0.6375 - val_loss: 1.1225 - val_accuracy: 0.3000\n",
            "Epoch 13/50\n",
            "60/60 [==============================] - 56s 924ms/step - loss: 0.7802 - accuracy: 0.6542 - val_loss: 1.2801 - val_accuracy: 0.5500\n",
            "Epoch 14/50\n",
            "60/60 [==============================] - 55s 919ms/step - loss: 0.7810 - accuracy: 0.7083 - val_loss: 1.1068 - val_accuracy: 0.4500\n",
            "Epoch 15/50\n",
            "60/60 [==============================] - 56s 926ms/step - loss: 0.6538 - accuracy: 0.7250 - val_loss: 1.0954 - val_accuracy: 0.5500\n",
            "Epoch 16/50\n",
            "60/60 [==============================] - 56s 925ms/step - loss: 0.6673 - accuracy: 0.6833 - val_loss: 1.1143 - val_accuracy: 0.5500\n",
            "Epoch 17/50\n",
            "60/60 [==============================] - 56s 926ms/step - loss: 0.6650 - accuracy: 0.7250 - val_loss: 1.0038 - val_accuracy: 0.5500\n",
            "Epoch 18/50\n",
            "60/60 [==============================] - 56s 930ms/step - loss: 0.6871 - accuracy: 0.7292 - val_loss: 1.1144 - val_accuracy: 0.4500\n",
            "Epoch 19/50\n",
            "60/60 [==============================] - 56s 927ms/step - loss: 0.6392 - accuracy: 0.7292 - val_loss: 1.4943 - val_accuracy: 0.4000\n",
            "Epoch 20/50\n",
            "60/60 [==============================] - 56s 928ms/step - loss: 0.6016 - accuracy: 0.7667 - val_loss: 1.1266 - val_accuracy: 0.6000\n",
            "Epoch 21/50\n",
            "60/60 [==============================] - 56s 928ms/step - loss: 0.4547 - accuracy: 0.7958 - val_loss: 1.4791 - val_accuracy: 0.4500\n",
            "Epoch 22/50\n",
            "60/60 [==============================] - 56s 925ms/step - loss: 0.4836 - accuracy: 0.7833 - val_loss: 1.7779 - val_accuracy: 0.5000\n",
            "Epoch 23/50\n",
            "60/60 [==============================] - 55s 922ms/step - loss: 0.3729 - accuracy: 0.8292 - val_loss: 1.0531 - val_accuracy: 0.5000\n",
            "Epoch 24/50\n",
            "60/60 [==============================] - 55s 920ms/step - loss: 0.3488 - accuracy: 0.8417 - val_loss: 1.5706 - val_accuracy: 0.3000\n",
            "Epoch 25/50\n",
            "60/60 [==============================] - 56s 924ms/step - loss: 0.3424 - accuracy: 0.8458 - val_loss: 2.3628 - val_accuracy: 0.7000\n",
            "Epoch 26/50\n",
            "60/60 [==============================] - 55s 922ms/step - loss: 0.3653 - accuracy: 0.8750 - val_loss: 2.4656 - val_accuracy: 0.2500\n",
            "Epoch 27/50\n",
            "60/60 [==============================] - 56s 928ms/step - loss: 0.3484 - accuracy: 0.8792 - val_loss: 1.1040 - val_accuracy: 0.4500\n",
            "Epoch 28/50\n",
            "60/60 [==============================] - 56s 925ms/step - loss: 0.3722 - accuracy: 0.8667 - val_loss: 2.2941 - val_accuracy: 0.4500\n",
            "Epoch 29/50\n",
            "60/60 [==============================] - 56s 925ms/step - loss: 0.2279 - accuracy: 0.9042 - val_loss: 2.7529 - val_accuracy: 0.6500\n",
            "Epoch 30/50\n",
            "60/60 [==============================] - 55s 921ms/step - loss: 0.2348 - accuracy: 0.9042 - val_loss: 3.3323 - val_accuracy: 0.3500\n",
            "Epoch 31/50\n",
            "60/60 [==============================] - 55s 923ms/step - loss: 0.2381 - accuracy: 0.9167 - val_loss: 1.4485 - val_accuracy: 0.4000\n",
            "Epoch 32/50\n",
            "60/60 [==============================] - 56s 927ms/step - loss: 0.2010 - accuracy: 0.9292 - val_loss: 3.0178 - val_accuracy: 0.4500\n",
            "Epoch 33/50\n",
            "60/60 [==============================] - 56s 928ms/step - loss: 0.3103 - accuracy: 0.9083 - val_loss: 1.9632 - val_accuracy: 0.5000\n",
            "Epoch 34/50\n",
            "60/60 [==============================] - 56s 926ms/step - loss: 0.1861 - accuracy: 0.9333 - val_loss: 3.2153 - val_accuracy: 0.3000\n",
            "Epoch 35/50\n",
            "60/60 [==============================] - 55s 923ms/step - loss: 0.1554 - accuracy: 0.9500 - val_loss: 2.7208 - val_accuracy: 0.5500\n",
            "Epoch 36/50\n",
            "60/60 [==============================] - 55s 919ms/step - loss: 0.2187 - accuracy: 0.9292 - val_loss: 2.0405 - val_accuracy: 0.5500\n",
            "Epoch 37/50\n",
            "60/60 [==============================] - 56s 926ms/step - loss: 0.2243 - accuracy: 0.9292 - val_loss: 2.3053 - val_accuracy: 0.6000\n",
            "Epoch 38/50\n",
            "60/60 [==============================] - 56s 929ms/step - loss: 0.1553 - accuracy: 0.9583 - val_loss: 1.9441 - val_accuracy: 0.4500\n",
            "Epoch 39/50\n",
            "60/60 [==============================] - 56s 924ms/step - loss: 0.0792 - accuracy: 0.9750 - val_loss: 3.2748 - val_accuracy: 0.4500\n",
            "Epoch 40/50\n",
            "60/60 [==============================] - 56s 927ms/step - loss: 0.0667 - accuracy: 0.9917 - val_loss: 2.5575 - val_accuracy: 0.5500\n",
            "Epoch 41/50\n",
            "60/60 [==============================] - 55s 923ms/step - loss: 0.0838 - accuracy: 0.9708 - val_loss: 4.0697 - val_accuracy: 0.4500\n",
            "Epoch 42/50\n",
            "60/60 [==============================] - 56s 925ms/step - loss: 0.0793 - accuracy: 0.9708 - val_loss: 4.1305 - val_accuracy: 0.3500\n",
            "Epoch 43/50\n",
            "60/60 [==============================] - 55s 923ms/step - loss: 0.1196 - accuracy: 0.9667 - val_loss: 2.4231 - val_accuracy: 0.5000\n",
            "Epoch 44/50\n",
            "60/60 [==============================] - 56s 925ms/step - loss: 0.1316 - accuracy: 0.9667 - val_loss: 1.9087 - val_accuracy: 0.3500\n",
            "Epoch 45/50\n",
            "60/60 [==============================] - 55s 921ms/step - loss: 0.0748 - accuracy: 0.9833 - val_loss: 2.5564 - val_accuracy: 0.4500\n",
            "Epoch 46/50\n",
            "60/60 [==============================] - 56s 926ms/step - loss: 0.0291 - accuracy: 0.9958 - val_loss: 3.8137 - val_accuracy: 0.4500\n",
            "Epoch 47/50\n",
            "60/60 [==============================] - 56s 925ms/step - loss: 0.0229 - accuracy: 0.9958 - val_loss: 5.5682 - val_accuracy: 0.4500\n",
            "Epoch 48/50\n",
            "60/60 [==============================] - 55s 915ms/step - loss: 0.1161 - accuracy: 0.9542 - val_loss: 2.4308 - val_accuracy: 0.4500\n",
            "Epoch 49/50\n",
            "60/60 [==============================] - 55s 917ms/step - loss: 0.0630 - accuracy: 0.9750 - val_loss: 2.5342 - val_accuracy: 0.5500\n",
            "Epoch 50/50\n",
            "60/60 [==============================] - 55s 916ms/step - loss: 0.1641 - accuracy: 0.9583 - val_loss: 3.9817 - val_accuracy: 0.3500\n",
            "Epoch 1/50\n",
            "60/60 [==============================] - 57s 936ms/step - loss: 1.1801 - accuracy: 0.2625 - val_loss: 1.0986 - val_accuracy: 0.4000\n",
            "Epoch 2/50\n",
            "60/60 [==============================] - 56s 930ms/step - loss: 1.0993 - accuracy: 0.3083 - val_loss: 1.0988 - val_accuracy: 0.2500\n",
            "Epoch 3/50\n",
            "60/60 [==============================] - 56s 928ms/step - loss: 1.0990 - accuracy: 0.3167 - val_loss: 1.0985 - val_accuracy: 0.3500\n",
            "Epoch 4/50\n",
            "60/60 [==============================] - 56s 927ms/step - loss: 1.0990 - accuracy: 0.2875 - val_loss: 1.0986 - val_accuracy: 0.3500\n",
            "Epoch 5/50\n",
            "60/60 [==============================] - 56s 928ms/step - loss: 1.0989 - accuracy: 0.3333 - val_loss: 1.0988 - val_accuracy: 0.2500\n",
            "Epoch 6/50\n",
            "60/60 [==============================] - 55s 924ms/step - loss: 1.0991 - accuracy: 0.3000 - val_loss: 1.0979 - val_accuracy: 0.4500\n",
            "Epoch 7/50\n",
            "60/60 [==============================] - 56s 924ms/step - loss: 1.0988 - accuracy: 0.2625 - val_loss: 1.0987 - val_accuracy: 0.4000\n",
            "Epoch 8/50\n",
            "60/60 [==============================] - 55s 921ms/step - loss: 1.0988 - accuracy: 0.3125 - val_loss: 1.0985 - val_accuracy: 0.2500\n",
            "Epoch 9/50\n",
            "60/60 [==============================] - 56s 924ms/step - loss: 1.0990 - accuracy: 0.3125 - val_loss: 1.0994 - val_accuracy: 0.3000\n",
            "Epoch 10/50\n",
            "60/60 [==============================] - 55s 921ms/step - loss: 1.0991 - accuracy: 0.3083 - val_loss: 1.0976 - val_accuracy: 0.6000\n",
            "Epoch 11/50\n",
            "60/60 [==============================] - 56s 924ms/step - loss: 1.0989 - accuracy: 0.3333 - val_loss: 1.0992 - val_accuracy: 0.2500\n",
            "Epoch 12/50\n",
            "60/60 [==============================] - 55s 923ms/step - loss: 1.0989 - accuracy: 0.3000 - val_loss: 1.0992 - val_accuracy: 0.3500\n",
            "Epoch 13/50\n",
            "60/60 [==============================] - 56s 929ms/step - loss: 1.0988 - accuracy: 0.3167 - val_loss: 1.0996 - val_accuracy: 0.1500\n",
            "Epoch 14/50\n",
            "60/60 [==============================] - 55s 923ms/step - loss: 1.0988 - accuracy: 0.2500 - val_loss: 1.0987 - val_accuracy: 0.3000\n",
            "Epoch 15/50\n",
            "60/60 [==============================] - 56s 925ms/step - loss: 1.0988 - accuracy: 0.2792 - val_loss: 1.0987 - val_accuracy: 0.2500\n",
            "Epoch 16/50\n",
            "60/60 [==============================] - 56s 924ms/step - loss: 1.0989 - accuracy: 0.2917 - val_loss: 1.0989 - val_accuracy: 0.3500\n",
            "Epoch 17/50\n",
            "60/60 [==============================] - 55s 919ms/step - loss: 1.0988 - accuracy: 0.3083 - val_loss: 1.0988 - val_accuracy: 0.3000\n",
            "Epoch 18/50\n",
            "60/60 [==============================] - 55s 919ms/step - loss: 1.0991 - accuracy: 0.3083 - val_loss: 1.0990 - val_accuracy: 0.2500\n",
            "Epoch 19/50\n",
            "60/60 [==============================] - 56s 925ms/step - loss: 1.0988 - accuracy: 0.3333 - val_loss: 1.0989 - val_accuracy: 0.2500\n",
            "Epoch 20/50\n",
            "60/60 [==============================] - 55s 922ms/step - loss: 1.0989 - accuracy: 0.3042 - val_loss: 1.0986 - val_accuracy: 0.3000\n",
            "Epoch 21/50\n",
            "60/60 [==============================] - 56s 925ms/step - loss: 1.0989 - accuracy: 0.3042 - val_loss: 1.0987 - val_accuracy: 0.4000\n",
            "Epoch 22/50\n",
            "60/60 [==============================] - 55s 919ms/step - loss: 1.1077 - accuracy: 0.2958 - val_loss: 1.0713 - val_accuracy: 0.4500\n",
            "Epoch 23/50\n",
            "60/60 [==============================] - 54s 907ms/step - loss: 1.1075 - accuracy: 0.3417 - val_loss: 1.1016 - val_accuracy: 0.3000\n",
            "Epoch 24/50\n",
            "60/60 [==============================] - 55s 907ms/step - loss: 1.0991 - accuracy: 0.2792 - val_loss: 1.0987 - val_accuracy: 0.3500\n",
            "Epoch 25/50\n",
            "60/60 [==============================] - 55s 921ms/step - loss: 1.1035 - accuracy: 0.3125 - val_loss: 1.0983 - val_accuracy: 0.4000\n",
            "Epoch 26/50\n",
            "60/60 [==============================] - 56s 925ms/step - loss: 1.0989 - accuracy: 0.3333 - val_loss: 1.0993 - val_accuracy: 0.3000\n",
            "Epoch 27/50\n",
            "60/60 [==============================] - 57s 945ms/step - loss: 1.0989 - accuracy: 0.3208 - val_loss: 1.0985 - val_accuracy: 0.3500\n",
            "Epoch 28/50\n",
            "60/60 [==============================] - 55s 922ms/step - loss: 1.0989 - accuracy: 0.2750 - val_loss: 1.0988 - val_accuracy: 0.2500\n",
            "Epoch 29/50\n",
            "60/60 [==============================] - 55s 912ms/step - loss: 1.0990 - accuracy: 0.3042 - val_loss: 1.0992 - val_accuracy: 0.3000\n",
            "Epoch 30/50\n",
            "60/60 [==============================] - 55s 922ms/step - loss: 1.0989 - accuracy: 0.3083 - val_loss: 1.0992 - val_accuracy: 0.2500\n",
            "Epoch 31/50\n",
            "60/60 [==============================] - 55s 916ms/step - loss: 1.0990 - accuracy: 0.3125 - val_loss: 1.0985 - val_accuracy: 0.4500\n",
            "Epoch 32/50\n",
            "60/60 [==============================] - 55s 920ms/step - loss: 1.0990 - accuracy: 0.2958 - val_loss: 1.0990 - val_accuracy: 0.2000\n",
            "Epoch 33/50\n",
            "60/60 [==============================] - 55s 919ms/step - loss: 1.0989 - accuracy: 0.3167 - val_loss: 1.0986 - val_accuracy: 0.3500\n",
            "Epoch 34/50\n",
            "60/60 [==============================] - 55s 916ms/step - loss: 1.0988 - accuracy: 0.3083 - val_loss: 1.0986 - val_accuracy: 0.3500\n",
            "Epoch 35/50\n",
            "60/60 [==============================] - 56s 924ms/step - loss: 1.0987 - accuracy: 0.3125 - val_loss: 1.0988 - val_accuracy: 0.2500\n",
            "Epoch 36/50\n",
            "60/60 [==============================] - 56s 926ms/step - loss: 1.0988 - accuracy: 0.3125 - val_loss: 1.0984 - val_accuracy: 0.4000\n",
            "Epoch 37/50\n",
            "60/60 [==============================] - 57s 952ms/step - loss: 1.0989 - accuracy: 0.3042 - val_loss: 1.0982 - val_accuracy: 0.3500\n",
            "Epoch 38/50\n",
            "60/60 [==============================] - 57s 942ms/step - loss: 1.0991 - accuracy: 0.3000 - val_loss: 1.0997 - val_accuracy: 0.1500\n",
            "Epoch 39/50\n",
            "60/60 [==============================] - 56s 926ms/step - loss: 1.0989 - accuracy: 0.3083 - val_loss: 1.0989 - val_accuracy: 0.2500\n",
            "Epoch 40/50\n",
            "60/60 [==============================] - 55s 921ms/step - loss: 1.0989 - accuracy: 0.2708 - val_loss: 1.0985 - val_accuracy: 0.3500\n",
            "Epoch 41/50\n",
            "60/60 [==============================] - 55s 920ms/step - loss: 1.0991 - accuracy: 0.3167 - val_loss: 1.0986 - val_accuracy: 0.3500\n",
            "Epoch 42/50\n",
            "60/60 [==============================] - 55s 922ms/step - loss: 1.0990 - accuracy: 0.2958 - val_loss: 1.0986 - val_accuracy: 0.3000\n",
            "Epoch 43/50\n",
            "60/60 [==============================] - 55s 909ms/step - loss: 1.0990 - accuracy: 0.3042 - val_loss: 1.0987 - val_accuracy: 0.3000\n",
            "Epoch 44/50\n",
            "60/60 [==============================] - 55s 910ms/step - loss: 1.0988 - accuracy: 0.2625 - val_loss: 1.0988 - val_accuracy: 0.3000\n",
            "Epoch 45/50\n",
            "60/60 [==============================] - 56s 926ms/step - loss: 1.0991 - accuracy: 0.3333 - val_loss: 1.0993 - val_accuracy: 0.2500\n",
            "Epoch 46/50\n",
            "60/60 [==============================] - 56s 939ms/step - loss: 1.0990 - accuracy: 0.2958 - val_loss: 1.0985 - val_accuracy: 0.3500\n",
            "Epoch 47/50\n",
            "60/60 [==============================] - 56s 937ms/step - loss: 1.0988 - accuracy: 0.3042 - val_loss: 1.0988 - val_accuracy: 0.2000\n",
            "Epoch 48/50\n",
            "60/60 [==============================] - 56s 928ms/step - loss: 1.0989 - accuracy: 0.3083 - val_loss: 1.0986 - val_accuracy: 0.4000\n",
            "Epoch 49/50\n",
            "60/60 [==============================] - 55s 919ms/step - loss: 1.0989 - accuracy: 0.2917 - val_loss: 1.0985 - val_accuracy: 0.3500\n",
            "Epoch 50/50\n",
            "60/60 [==============================] - 55s 918ms/step - loss: 1.0990 - accuracy: 0.2750 - val_loss: 1.0990 - val_accuracy: 0.2500\n"
          ],
          "name": "stdout"
        }
      ]
    },
    {
      "cell_type": "markdown",
      "metadata": {
        "id": "0QU_AZOks9_R"
      },
      "source": [
        "# Section 6. Main Program Pt. 2 - Show Room"
      ]
    },
    {
      "cell_type": "code",
      "metadata": {
        "id": "1wMlQH2StB9m",
        "colab": {
          "base_uri": "https://localhost:8080/",
          "height": 606
        },
        "outputId": "39556fbd-d313-4043-98db-9b8c173c2c88"
      },
      "source": [
        "plt.figure(figsize=(10,10))\n",
        "plt.title('model1 Accuracy')\n",
        "plt.plot(resultHistory['model1'].history['accuracy'], label='Accuracy',marker= 'o')\n",
        "plt.plot(resultHistory['model1'].history['val_accuracy'], label='Validation Accuracy',marker= 'o')\n",
        "plt.legend()\n",
        "plt.show();"
      ],
      "execution_count": null,
      "outputs": [
        {
          "output_type": "display_data",
          "data": {
            "image/png": "[encoded data removed]",
            "text/plain": [
              "<Figure size 720x720 with 1 Axes>"
            ]
          },
          "metadata": {
            "tags": [],
            "needs_background": "light"
          }
        }
      ]
    },
    {
      "cell_type": "code",
      "metadata": {
        "colab": {
          "base_uri": "https://localhost:8080/",
          "height": 606
        },
        "id": "KbPW2JmDYANs",
        "outputId": "ad5e9364-11e5-4e49-f0db-284845fd1b77"
      },
      "source": [
        "plt.figure(figsize=(10,10))\n",
        "plt.title('model1 Loss')\n",
        "plt.plot(resultHistory['model1'].history['val_loss'], label='Validation Loss',marker= 'o')\n",
        "plt.plot(resultHistory['model1'].history['loss'], label='Loss',marker= 'o')\n",
        "plt.legend()\n",
        "plt.show();"
      ],
      "execution_count": null,
      "outputs": [
        {
          "output_type": "display_data",
          "data": {
            "image/png": "[encoded data removed]",
            "text/plain": [
              "<Figure size 720x720 with 1 Axes>"
            ]
          },
          "metadata": {
            "tags": [],
            "needs_background": "light"
          }
        }
      ]
    },
    {
      "cell_type": "code",
      "metadata": {
        "colab": {
          "base_uri": "https://localhost:8080/",
          "height": 606
        },
        "id": "IantAtZQYSMn",
        "outputId": "0a5cc89f-cc2f-4f55-b07e-ae1586b05c59"
      },
      "source": [
        "plt.figure(figsize=(10,10))\n",
        "plt.title('model2 Accuracy')\n",
        "plt.plot(resultHistory['model2'].history['accuracy'], label='Accuracy',marker= 'o')\n",
        "plt.plot(resultHistory['model2'].history['val_accuracy'], label='Validation Accuracy',marker= 'o')\n",
        "plt.legend()\n",
        "plt.show();"
      ],
      "execution_count": null,
      "outputs": [
        {
          "output_type": "display_data",
          "data": {
            "image/png": "[encoded data removed]",
            "text/plain": [
              "<Figure size 720x720 with 1 Axes>"
            ]
          },
          "metadata": {
            "tags": [],
            "needs_background": "light"
          }
        }
      ]
    },
    {
      "cell_type": "code",
      "metadata": {
        "colab": {
          "base_uri": "https://localhost:8080/",
          "height": 606
        },
        "id": "Qv8xKUbeYSwg",
        "outputId": "009e6a1c-d438-4ed4-a5f5-df6bf6f2b522"
      },
      "source": [
        "plt.figure(figsize=(10,10))\n",
        "plt.title('model2 Loss')\n",
        "plt.plot(resultHistory['model2'].history['val_loss'], label='Validation Loss',marker= 'o')\n",
        "plt.plot(resultHistory['model2'].history['loss'], label='Loss',marker= 'o')\n",
        "plt.legend()\n",
        "plt.show();"
      ],
      "execution_count": null,
      "outputs": [
        {
          "output_type": "display_data",
          "data": {
            "image/png": "[encoded data removed]",
            "text/plain": [
              "<Figure size 720x720 with 1 Axes>"
            ]
          },
          "metadata": {
            "tags": [],
            "needs_background": "light"
          }
        }
      ]
    }
  ]
}